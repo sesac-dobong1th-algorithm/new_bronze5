{
 "cells": [
  {
   "cell_type": "code",
   "execution_count": 1,
   "metadata": {},
   "outputs": [
    {
     "name": "stdout",
     "output_type": "stream",
     "text": [
      "10\n",
      "0\n"
     ]
    }
   ],
   "source": [
    "# 백준 1271번 - 엄청난 부자2 (정답 통과)\n",
    "n , m = map(int, input().split())\n",
    "print(n // m)\n",
    "print(n % m)"
   ]
  },
  {
   "cell_type": "code",
   "execution_count": 2,
   "metadata": {},
   "outputs": [
    {
     "name": "stdout",
     "output_type": "stream",
     "text": [
      "나눠줄 돈 : 10\n",
      "남는 돈: 0\n"
     ]
    }
   ],
   "source": [
    "# 백준 1271번 - 처음에 이렇게 풀었는데 자꾸 틀렸습니다라고 나옴\n",
    "n, m = map(int, input(\"입력형식 예: 1000 100\").split())\n",
    "\n",
    "distribute_money = n // m\n",
    "remain_money = n % m\n",
    "\n",
    "print(f\"나눠줄 돈 : {distribute_money}\")\n",
    "print(f\"남는 돈: {remain_money}\") "
   ]
  }
 ],
 "metadata": {
  "kernelspec": {
   "display_name": "Python 3",
   "language": "python",
   "name": "python3"
  },
  "language_info": {
   "codemirror_mode": {
    "name": "ipython",
    "version": 3
   },
   "file_extension": ".py",
   "mimetype": "text/x-python",
   "name": "python",
   "nbconvert_exporter": "python",
   "pygments_lexer": "ipython3",
   "version": "3.12.1"
  }
 },
 "nbformat": 4,
 "nbformat_minor": 2
}
